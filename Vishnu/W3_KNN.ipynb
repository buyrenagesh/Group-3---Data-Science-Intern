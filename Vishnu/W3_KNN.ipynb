{
 "cells": [
  {
   "cell_type": "markdown",
   "metadata": {},
   "source": [
    "# Twitter Sentiment Analysis using KNN"
   ]
  },
  {
   "cell_type": "code",
   "execution_count": 31,
   "metadata": {},
   "outputs": [],
   "source": [
    "import numpy as np\n",
    "import pandas as pd\n",
    "import matplotlib.pyplot as plt\n",
    "import seaborn as sns\n",
    "import nltk\n",
    "from sklearn.feature_extraction.text import CountVectorizer\n",
    "from sklearn.feature_extraction.text import TfidfTransformer"
   ]
  },
  {
   "cell_type": "code",
   "execution_count": 32,
   "metadata": {},
   "outputs": [],
   "source": [
    "data=pd.read_csv('train.csv')\n",
    "data=data.dropna()"
   ]
  },
  {
   "cell_type": "code",
   "execution_count": 33,
   "metadata": {},
   "outputs": [
    {
     "data": {
      "image/png": "[encoded data removed]",
      "text/plain": [
       "<Figure size 432x288 with 1 Axes>"
      ]
     },
     "metadata": {},
     "output_type": "display_data"
    }
   ],
   "source": [
    "counts=data['sentiment'].value_counts()\n",
    "counts\n",
    "fig = plt.figure()\n",
    "ax = fig.add_axes([0,0,1,1])\n",
    "ax.axis('equal')\n",
    "lab = ['+ve','-ve','neutral']\n",
    "ax.pie(counts,labels=lab,autopct='%1.2f%%',explode=(0.01,0.01,0.01))\n",
    "plt.show()"
   ]
  },
  {
   "cell_type": "code",
   "execution_count": 34,
   "metadata": {},
   "outputs": [
    {
     "name": "stdout",
     "output_type": "stream",
     "text": [
      "['Playing Ghost Online is really interesting.', 'The new updates are Kirin pet and Metamorph for third job.', 'Can`t wait to have a dragon pet']\n"
     ]
    }
   ],
   "source": [
    "from nltk.tokenize import sent_tokenize\n",
    "text=data.text[1]\n",
    "tokenized_text=sent_tokenize(text)\n",
    "print(tokenized_text)"
   ]
  },
  {
   "cell_type": "code",
   "execution_count": 35,
   "metadata": {},
   "outputs": [
    {
     "name": "stdout",
     "output_type": "stream",
     "text": [
      "['Playing', 'Ghost', 'Online', 'is', 'really', 'interesting', '.', 'The', 'new', 'updates', 'are', 'Kirin', 'pet', 'and', 'Metamorph', 'for', 'third', 'job', '.', 'Can', '`', 't', 'wait', 'to', 'have', 'a', 'dragon', 'pet']\n"
     ]
    }
   ],
   "source": [
    "from nltk.tokenize import word_tokenize\n",
    "tokenized_word=word_tokenize(text)\n",
    "print(tokenized_word)"
   ]
  },
  {
   "cell_type": "code",
   "execution_count": 36,
   "metadata": {},
   "outputs": [
    {
     "name": "stdout",
     "output_type": "stream",
     "text": [
      "<FreqDist with 26 samples and 28 outcomes>\n"
     ]
    }
   ],
   "source": [
    "from nltk.probability import FreqDist\n",
    "fdist = FreqDist(tokenized_word)\n",
    "print(fdist)"
   ]
  },
  {
   "cell_type": "code",
   "execution_count": 37,
   "metadata": {},
   "outputs": [
    {
     "data": {
      "text/plain": [
       "[('.', 2),\n",
       " ('pet', 2),\n",
       " ('Playing', 1),\n",
       " ('Ghost', 1),\n",
       " ('Online', 1),\n",
       " ('is', 1),\n",
       " ('really', 1),\n",
       " ('interesting', 1),\n",
       " ('The', 1),\n",
       " ('new', 1),\n",
       " ('updates', 1),\n",
       " ('are', 1),\n",
       " ('Kirin', 1),\n",
       " ('and', 1),\n",
       " ('Metamorph', 1),\n",
       " ('for', 1),\n",
       " ('third', 1),\n",
       " ('job', 1),\n",
       " ('Can', 1),\n",
       " ('`', 1),\n",
       " ('t', 1),\n",
       " ('wait', 1),\n",
       " ('to', 1),\n",
       " ('have', 1),\n",
       " ('a', 1),\n",
       " ('dragon', 1)]"
      ]
     },
     "execution_count": 37,
     "metadata": {},
     "output_type": "execute_result"
    }
   ],
   "source": [
    "fdist.most_common()"
   ]
  },
  {
   "cell_type": "code",
   "execution_count": 38,
   "metadata": {},
   "outputs": [
    {
     "data": {
      "image/png": "[encoded data removed]",
      "text/plain": [
       "<Figure size 432x288 with 1 Axes>"
      ]
     },
     "metadata": {
      "needs_background": "light"
     },
     "output_type": "display_data"
    }
   ],
   "source": [
    "import matplotlib.pyplot as plt\n",
    "fdist.plot(30,cumulative=False)\n",
    "plt.show()"
   ]
  },
  {
   "cell_type": "code",
   "execution_count": 39,
   "metadata": {},
   "outputs": [
    {
     "name": "stdout",
     "output_type": "stream",
     "text": [
      "{'mustn', \"wasn't\", 'you', 'after', 'above', 'wouldn', 'didn', 'most', 'all', 'can', 'any', 'your', 'own', 'aren', 'be', 'yours', \"mustn't\", 'him', 'ma', 'no', 'these', 'herself', 'being', 'nor', 'again', 'the', 'haven', 'then', \"don't\", 'such', 'themselves', 'that', 'out', 'yourself', 'are', 'between', 'over', 'few', \"wouldn't\", 'had', 't', 'doesn', 'down', 'in', 'weren', 'below', 'whom', 'shouldn', 'against', 'am', 'did', 'they', 'is', 'll', 'its', 'needn', \"weren't\", 'should', \"that'll\", 'because', 'my', 'me', 'each', \"didn't\", 'mightn', \"hasn't\", 'who', 'by', \"you're\", \"you'd\", 'why', 'ours', 'so', 'couldn', 'this', 'has', 's', 'about', 'isn', 'while', \"should've\", 'do', 'hadn', 'have', 'y', 'he', 'm', 'here', 'd', \"you'll\", 'which', 'her', 'at', 'off', 'now', 'of', \"shan't\", 'will', 'wasn', 'a', \"aren't\", 'through', 'with', 'from', \"it's\", 'what', 'those', 'hers', 'not', 'o', 'doing', \"needn't\", 'as', 'or', 'won', 'were', 'once', 'where', 'himself', 'when', 'their', 'too', 'been', 'very', 'there', 'other', \"mightn't\", 'we', 'was', \"won't\", \"haven't\", \"doesn't\", 'just', \"she's\", 'our', 've', 'them', 'into', 'itself', \"isn't\", 'under', 'further', 'if', 'it', 'some', 'yourselves', 'don', 'theirs', 'ourselves', 'up', 're', 'only', 'i', 'and', 'myself', 'she', 'how', 'for', 'does', 'during', 'ain', 'both', 'hasn', 'having', \"hadn't\", \"couldn't\", 'than', 'same', 'to', 'until', 'his', 'but', 'an', 'before', \"you've\", 'on', \"shouldn't\", 'more', 'shan'}\n"
     ]
    }
   ],
   "source": [
    "from nltk.corpus import stopwords\n",
    "stop_words=set(stopwords.words(\"english\"))\n",
    "print(stop_words)"
   ]
  },
  {
   "cell_type": "code",
   "execution_count": 40,
   "metadata": {},
   "outputs": [],
   "source": [
    "tokenized_sent=tokenized_word"
   ]
  },
  {
   "cell_type": "code",
   "execution_count": 41,
   "metadata": {},
   "outputs": [
    {
     "name": "stdout",
     "output_type": "stream",
     "text": [
      "Tokenized Sentence: ['Playing', 'Ghost', 'Online', 'is', 'really', 'interesting', '.', 'The', 'new', 'updates', 'are', 'Kirin', 'pet', 'and', 'Metamorph', 'for', 'third', 'job', '.', 'Can', '`', 't', 'wait', 'to', 'have', 'a', 'dragon', 'pet']\n",
      "Filterd Sentence: ['Playing', 'Ghost', 'Online', 'really', 'interesting', '.', 'The', 'new', 'updates', 'Kirin', 'pet', 'Metamorph', 'third', 'job', '.', 'Can', '`', 'wait', 'dragon', 'pet']\n"
     ]
    }
   ],
   "source": [
    "filtered_sent=[]\n",
    "for w in tokenized_sent:\n",
    "    if w not in stop_words:\n",
    "        filtered_sent.append(w)\n",
    "print(\"Tokenized Sentence:\",tokenized_sent)\n",
    "print(\"Filterd Sentence:\",filtered_sent)"
   ]
  },
  {
   "cell_type": "markdown",
   "metadata": {},
   "source": [
    "# Stemming"
   ]
  },
  {
   "cell_type": "code",
   "execution_count": 42,
   "metadata": {},
   "outputs": [
    {
     "name": "stdout",
     "output_type": "stream",
     "text": [
      "Filtered Sentence: ['Playing', 'Ghost', 'Online', 'really', 'interesting', '.', 'The', 'new', 'updates', 'Kirin', 'pet', 'Metamorph', 'third', 'job', '.', 'Can', '`', 'wait', 'dragon', 'pet']\n",
      "Stemmed Sentence: ['play', 'ghost', 'onlin', 'realli', 'interest', '.', 'the', 'new', 'updat', 'kirin', 'pet', 'metamorph', 'third', 'job', '.', 'can', '`', 'wait', 'dragon', 'pet']\n"
     ]
    }
   ],
   "source": [
    "\n",
    "from nltk.stem import PorterStemmer\n",
    "from nltk.tokenize import sent_tokenize, word_tokenize\n",
    "\n",
    "ps = PorterStemmer()\n",
    "\n",
    "stemmed_words=[]\n",
    "for w in filtered_sent:\n",
    "    stemmed_words.append(ps.stem(w))\n",
    "\n",
    "print(\"Filtered Sentence:\",filtered_sent)\n",
    "print(\"Stemmed Sentence:\",stemmed_words)"
   ]
  },
  {
   "cell_type": "markdown",
   "metadata": {},
   "source": [
    "# Lexicon Normalization\n"
   ]
  },
  {
   "cell_type": "markdown",
   "metadata": {},
   "source": [
    "# performing stemming and Lemmatization"
   ]
  },
  {
   "cell_type": "code",
   "execution_count": 43,
   "metadata": {},
   "outputs": [
    {
     "name": "stdout",
     "output_type": "stream",
     "text": [
      "Lemmatized Word: fly\n",
      "Stemmed Word: fli\n"
     ]
    }
   ],
   "source": [
    "\n",
    "\n",
    "from nltk.stem.wordnet import WordNetLemmatizer\n",
    "lem = WordNetLemmatizer()\n",
    "\n",
    "from nltk.stem.porter import PorterStemmer\n",
    "stem = PorterStemmer()\n",
    "\n",
    "word = \"flying\"\n",
    "print(\"Lemmatized Word:\",lem.lemmatize(word,\"v\"))\n",
    "print(\"Stemmed Word:\",stem.stem(word))"
   ]
  },
  {
   "cell_type": "code",
   "execution_count": 44,
   "metadata": {},
   "outputs": [
    {
     "name": "stdout",
     "output_type": "stream",
     "text": [
      "['Playing', 'Ghost', 'Online', 'is', 'really', 'interesting', '.', 'The', 'new', 'updates', 'are', 'Kirin', 'pet', 'and', 'Metamorph', 'for', 'third', 'job', '.', 'Can', '`', 't', 'wait', 'to', 'have', 'a', 'dragon', 'pet']\n"
     ]
    }
   ],
   "source": [
    "sent = data.text[1]\n",
    "tokens=nltk.word_tokenize(sent)\n",
    "print(tokens)"
   ]
  },
  {
   "cell_type": "code",
   "execution_count": 45,
   "metadata": {},
   "outputs": [
    {
     "data": {
      "text/plain": [
       "[('Playing', 'VBG'),\n",
       " ('Ghost', 'NNP'),\n",
       " ('Online', 'NNP'),\n",
       " ('is', 'VBZ'),\n",
       " ('really', 'RB'),\n",
       " ('interesting', 'JJ'),\n",
       " ('.', '.'),\n",
       " ('The', 'DT'),\n",
       " ('new', 'JJ'),\n",
       " ('updates', 'NNS'),\n",
       " ('are', 'VBP'),\n",
       " ('Kirin', 'NNP'),\n",
       " ('pet', 'NN'),\n",
       " ('and', 'CC'),\n",
       " ('Metamorph', 'NNP'),\n",
       " ('for', 'IN'),\n",
       " ('third', 'JJ'),\n",
       " ('job', 'NN'),\n",
       " ('.', '.'),\n",
       " ('Can', 'MD'),\n",
       " ('`', '``'),\n",
       " ('t', 'VB'),\n",
       " ('wait', 'NN'),\n",
       " ('to', 'TO'),\n",
       " ('have', 'VB'),\n",
       " ('a', 'DT'),\n",
       " ('dragon', 'NN'),\n",
       " ('pet', 'NN')]"
      ]
     },
     "execution_count": 45,
     "metadata": {},
     "output_type": "execute_result"
    }
   ],
   "source": [
    "nltk.pos_tag(tokens)"
   ]
  },
  {
   "cell_type": "markdown",
   "metadata": {},
   "source": [
    "# tokenizer to remove unwanted elements from out data like symbols and numbers"
   ]
  },
  {
   "cell_type": "code",
   "execution_count": 46,
   "metadata": {},
   "outputs": [],
   "source": [
    "from sklearn.feature_extraction.text import CountVectorizer\n",
    "from nltk.tokenize import RegexpTokenizer\n",
    "\n",
    "\n",
    "token = RegexpTokenizer(r'[a-zA-Z0-9]+')\n",
    "cv = CountVectorizer(lowercase=True,stop_words='english',ngram_range = (1,1),tokenizer = token.tokenize)\n",
    "text_counts= cv.fit_transform(data['text'])"
   ]
  },
  {
   "cell_type": "code",
   "execution_count": 47,
   "metadata": {},
   "outputs": [],
   "source": [
    "from sklearn.model_selection import train_test_split\n",
    "X_train, X_test, y_train, y_test = train_test_split(text_counts, data['sentiment'], test_size=0.3, random_state=1)"
   ]
  },
  {
   "cell_type": "code",
   "execution_count": 48,
   "metadata": {},
   "outputs": [
    {
     "data": {
      "text/plain": [
       "KNeighborsClassifier(algorithm='brute', leaf_size=30, metric='euclidean',\n",
       "                     metric_params=None, n_jobs=None, n_neighbors=7, p=2,\n",
       "                     weights='uniform')"
      ]
     },
     "execution_count": 48,
     "metadata": {},
     "output_type": "execute_result"
    }
   ],
   "source": [
    "from sklearn.neighbors import KNeighborsClassifier\n",
    "classifier = KNeighborsClassifier(n_neighbors=7, metric='euclidean',algorithm='brute')\n",
    "classifier.fit(X_train, y_train)\n"
   ]
  },
  {
   "cell_type": "code",
   "execution_count": 49,
   "metadata": {},
   "outputs": [],
   "source": [
    "y_pred=classifier.predict(X_test)"
   ]
  },
  {
   "cell_type": "code",
   "execution_count": 50,
   "metadata": {},
   "outputs": [
    {
     "data": {
      "text/plain": [
       "array([[ 535, 1769,   62],\n",
       "       [ 186, 2961,  164],\n",
       "       [  94, 1554,  910]], dtype=int64)"
      ]
     },
     "execution_count": 50,
     "metadata": {},
     "output_type": "execute_result"
    }
   ],
   "source": [
    "from sklearn.metrics import confusion_matrix\n",
    "cm = confusion_matrix(y_test, y_pred)\n",
    "cm"
   ]
  },
  {
   "cell_type": "code",
   "execution_count": 51,
   "metadata": {},
   "outputs": [
    {
     "name": "stdout",
     "output_type": "stream",
     "text": [
      "              precision    recall  f1-score   support\n",
      "\n",
      "    negative       0.66      0.23      0.34      2366\n",
      "     neutral       0.47      0.89      0.62      3311\n",
      "    positive       0.80      0.36      0.49      2558\n",
      "\n",
      "    accuracy                           0.54      8235\n",
      "   macro avg       0.64      0.49      0.48      8235\n",
      "weighted avg       0.63      0.54      0.50      8235\n",
      "\n"
     ]
    }
   ],
   "source": [
    "from sklearn.metrics import classification_report\n",
    "print(classification_report(y_test, y_pred))"
   ]
  },
  {
   "cell_type": "code",
   "execution_count": null,
   "metadata": {},
   "outputs": [],
   "source": []
  },
  {
   "cell_type": "code",
   "execution_count": 52,
   "metadata": {},
   "outputs": [
    {
     "data": {
      "text/plain": [
       "['finalized_model_knn.sav']"
      ]
     },
     "execution_count": 52,
     "metadata": {},
     "output_type": "execute_result"
    }
   ],
   "source": [
    "import joblib\n",
    "filename = 'finalized_model_knn.sav'\n",
    "joblib.dump(classifier, filename)"
   ]
  },
  {
   "cell_type": "code",
   "execution_count": 53,
   "metadata": {},
   "outputs": [
    {
     "name": "stdout",
     "output_type": "stream",
     "text": [
      "0.5350333940497874\n"
     ]
    }
   ],
   "source": [
    "# load the model from disk\n",
    "loaded_model = joblib.load(filename)\n",
    "result = loaded_model.score(X_test, y_test)\n",
    "print(result)"
   ]
  }
 ],
 "metadata": {
  "kernelspec": {
   "display_name": "Python 3",
   "language": "python",
   "name": "python3"
  },
  "language_info": {
   "codemirror_mode": {
    "name": "ipython",
    "version": 3
   },
   "file_extension": ".py",
   "mimetype": "text/x-python",
   "name": "python",
   "nbconvert_exporter": "python",
   "pygments_lexer": "ipython3",
   "version": "3.7.3"
  }
 },
 "nbformat": 4,
 "nbformat_minor": 2
}
